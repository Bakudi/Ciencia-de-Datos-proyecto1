{
 "cells": [
  {
   "cell_type": "code",
   "execution_count": 1,
   "id": "42463ecc",
   "metadata": {},
   "outputs": [
    {
     "name": "stderr",
     "output_type": "stream",
     "text": [
      "/home/andres/Ciencia-de-Datos-proyecto1/.venv/lib/python3.12/site-packages/tqdm/auto.py:21: TqdmWarning: IProgress not found. Please update jupyter and ipywidgets. See https://ipywidgets.readthedocs.io/en/stable/user_install.html\n",
      "  from .autonotebook import tqdm as notebook_tqdm\n"
     ]
    },
    {
     "name": "stdout",
     "output_type": "stream",
     "text": [
      "Datos originales: (99457, 10)\n"
     ]
    },
    {
     "data": {
      "text/html": [
       "<div>\n",
       "<style scoped>\n",
       "    .dataframe tbody tr th:only-of-type {\n",
       "        vertical-align: middle;\n",
       "    }\n",
       "\n",
       "    .dataframe tbody tr th {\n",
       "        vertical-align: top;\n",
       "    }\n",
       "\n",
       "    .dataframe thead th {\n",
       "        text-align: right;\n",
       "    }\n",
       "</style>\n",
       "<table border=\"1\" class=\"dataframe\">\n",
       "  <thead>\n",
       "    <tr style=\"text-align: right;\">\n",
       "      <th></th>\n",
       "      <th>invoice_no</th>\n",
       "      <th>customer_id</th>\n",
       "      <th>gender</th>\n",
       "      <th>age</th>\n",
       "      <th>category</th>\n",
       "      <th>quantity</th>\n",
       "      <th>price</th>\n",
       "      <th>payment_method</th>\n",
       "      <th>invoice_date</th>\n",
       "      <th>shopping_mall</th>\n",
       "    </tr>\n",
       "  </thead>\n",
       "  <tbody>\n",
       "    <tr>\n",
       "      <th>0</th>\n",
       "      <td>I138884</td>\n",
       "      <td>C241288</td>\n",
       "      <td>Female</td>\n",
       "      <td>28</td>\n",
       "      <td>Clothing</td>\n",
       "      <td>5</td>\n",
       "      <td>1500.40</td>\n",
       "      <td>Credit Card</td>\n",
       "      <td>5/8/2022</td>\n",
       "      <td>Kanyon</td>\n",
       "    </tr>\n",
       "    <tr>\n",
       "      <th>1</th>\n",
       "      <td>I317333</td>\n",
       "      <td>C111565</td>\n",
       "      <td>Male</td>\n",
       "      <td>21</td>\n",
       "      <td>Shoes</td>\n",
       "      <td>3</td>\n",
       "      <td>1800.51</td>\n",
       "      <td>Debit Card</td>\n",
       "      <td>12/12/2021</td>\n",
       "      <td>Forum Istanbul</td>\n",
       "    </tr>\n",
       "    <tr>\n",
       "      <th>2</th>\n",
       "      <td>I127801</td>\n",
       "      <td>C266599</td>\n",
       "      <td>Male</td>\n",
       "      <td>20</td>\n",
       "      <td>Clothing</td>\n",
       "      <td>1</td>\n",
       "      <td>300.08</td>\n",
       "      <td>Cash</td>\n",
       "      <td>9/11/2021</td>\n",
       "      <td>Metrocity</td>\n",
       "    </tr>\n",
       "    <tr>\n",
       "      <th>3</th>\n",
       "      <td>I173702</td>\n",
       "      <td>C988172</td>\n",
       "      <td>Female</td>\n",
       "      <td>66</td>\n",
       "      <td>Shoes</td>\n",
       "      <td>5</td>\n",
       "      <td>3000.85</td>\n",
       "      <td>Credit Card</td>\n",
       "      <td>16/05/2021</td>\n",
       "      <td>Metropol AVM</td>\n",
       "    </tr>\n",
       "    <tr>\n",
       "      <th>4</th>\n",
       "      <td>I337046</td>\n",
       "      <td>C189076</td>\n",
       "      <td>Female</td>\n",
       "      <td>53</td>\n",
       "      <td>Books</td>\n",
       "      <td>4</td>\n",
       "      <td>60.60</td>\n",
       "      <td>Cash</td>\n",
       "      <td>24/10/2021</td>\n",
       "      <td>Kanyon</td>\n",
       "    </tr>\n",
       "  </tbody>\n",
       "</table>\n",
       "</div>"
      ],
      "text/plain": [
       "  invoice_no customer_id  gender  age  category  quantity    price  \\\n",
       "0    I138884     C241288  Female   28  Clothing         5  1500.40   \n",
       "1    I317333     C111565    Male   21     Shoes         3  1800.51   \n",
       "2    I127801     C266599    Male   20  Clothing         1   300.08   \n",
       "3    I173702     C988172  Female   66     Shoes         5  3000.85   \n",
       "4    I337046     C189076  Female   53     Books         4    60.60   \n",
       "\n",
       "  payment_method invoice_date   shopping_mall  \n",
       "0    Credit Card     5/8/2022          Kanyon  \n",
       "1     Debit Card   12/12/2021  Forum Istanbul  \n",
       "2           Cash    9/11/2021       Metrocity  \n",
       "3    Credit Card   16/05/2021    Metropol AVM  \n",
       "4           Cash   24/10/2021          Kanyon  "
      ]
     },
     "metadata": {},
     "output_type": "display_data"
    }
   ],
   "source": [
    "import pandas as pd\n",
    "import matplotlib.pyplot as plt\n",
    "import seaborn as sns\n",
    "import kagglehub\n",
    "from pathlib import Path\n",
    "\n",
    "BASE_DIR = Path.cwd()\n",
    "RAW_CSV = BASE_DIR / \"customer_shopping_data.csv\"\n",
    "\n",
    "DIM_CUSTOMERS = BASE_DIR / \"dim_customers.csv\"\n",
    "DIM_PRODUCTS  = BASE_DIR / \"dim_products.csv\"\n",
    "DIM_DATES     = BASE_DIR / \"dim_dates.csv\"\n",
    "DIM_PAYMENTS  = BASE_DIR / \"dim_payments.csv\"\n",
    "DIM_MALLS     = BASE_DIR / \"dim_malls.csv\"\n",
    "FACT_SALES    = BASE_DIR / \"fact_sales.csv\"\n",
    "path = kagglehub.dataset_download(\"mehmettahiraslan/customer-shopping-dataset\")\n",
    "\n",
    "df = pd.read_csv(RAW_CSV)\n",
    "print(\"Datos originales:\", df.shape)\n",
    "display(df.head())"
   ]
  },
  {
   "cell_type": "code",
   "execution_count": 2,
   "id": "5033fbba",
   "metadata": {},
   "outputs": [
    {
     "name": "stdout",
     "output_type": "stream",
     "text": [
      "DimCustomers: 99457 filas\n"
     ]
    }
   ],
   "source": [
    "dim_customers = df[[\"customer_id\", \"gender\", \"age\"]].drop_duplicates().reset_index(drop=True)\n",
    "dim_customers.to_csv(DIM_CUSTOMERS, index=False)\n",
    "print(f\"DimCustomers: {len(dim_customers)} filas\")"
   ]
  },
  {
   "cell_type": "code",
   "execution_count": 3,
   "id": "c80932e0",
   "metadata": {},
   "outputs": [],
   "source": [
    "dim_products = df[[\"category\"]].drop_duplicates().reset_index(drop=True)\n",
    "dim_products[\"product_id\"] = dim_products.index + 1\n",
    "dim_products = dim_products[[\"product_id\", \"category\"]]\n",
    "dim_products.to_csv(DIM_PRODUCTS, index=False)"
   ]
  },
  {
   "cell_type": "code",
   "execution_count": 4,
   "id": "e8151f9d",
   "metadata": {},
   "outputs": [],
   "source": [
    "\n",
    "dim_payments = df[[\"payment_method\"]].drop_duplicates().reset_index(drop=True)\n",
    "dim_payments[\"payment_id\"] = dim_payments.index + 1\n",
    "dim_payments = dim_payments[[\"payment_id\", \"payment_method\"]]\n",
    "dim_payments.to_csv(DIM_PAYMENTS, index=False)\n"
   ]
  },
  {
   "cell_type": "code",
   "execution_count": 5,
   "id": "99964478",
   "metadata": {},
   "outputs": [],
   "source": [
    "dim_malls = df[[\"shopping_mall\"]].drop_duplicates().reset_index(drop=True)\n",
    "dim_malls[\"mall_id\"] = dim_malls.index + 1\n",
    "dim_malls = dim_malls[[\"mall_id\", \"shopping_mall\"]]\n",
    "dim_malls.to_csv(DIM_MALLS, index=False)"
   ]
  },
  {
   "cell_type": "code",
   "execution_count": 6,
   "id": "3716ec54",
   "metadata": {},
   "outputs": [],
   "source": [
    "dim_dates = df[[\"invoice_date\"]].drop_duplicates().reset_index(drop=True)\n",
    "dim_dates[\"invoice_date\"] = pd.to_datetime(dim_dates[\"invoice_date\"], dayfirst=True)\n",
    "dim_dates[\"date_id\"] = dim_dates[\"invoice_date\"].dt.strftime(\"%Y%m%d\").astype(int)\n",
    "dim_dates[\"year\"] = dim_dates[\"invoice_date\"].dt.year\n",
    "dim_dates[\"month\"] = dim_dates[\"invoice_date\"].dt.month\n",
    "dim_dates[\"day\"] = dim_dates[\"invoice_date\"].dt.day\n",
    "dim_dates = dim_dates[[\"date_id\", \"invoice_date\", \"year\", \"month\", \"day\"]]\n",
    "dim_dates.to_csv(DIM_DATES, index=False)"
   ]
  },
  {
   "cell_type": "code",
   "execution_count": 8,
   "id": "fdc4ca99",
   "metadata": {},
   "outputs": [],
   "source": [
    "# Asegurar que en ambos DataFrames invoice_date es datetime\n",
    "df[\"invoice_date\"] = pd.to_datetime(df[\"invoice_date\"], errors=\"coerce\")\n",
    "dim_dates[\"invoice_date\"] = pd.to_datetime(dim_dates[\"invoice_date\"], errors=\"coerce\")\n",
    "\n",
    "# Ahora sí hacer el merge\n",
    "fact_sales = (\n",
    "    df.merge(dim_products, on=\"category\")\n",
    "      .merge(dim_payments, on=\"payment_method\")\n",
    "      .merge(dim_malls, on=\"shopping_mall\")\n",
    "      .merge(dim_dates, on=\"invoice_date\")\n",
    ")\n",
    "\n",
    "fact_sales = fact_sales[[\n",
    "    \"invoice_no\", \"customer_id\", \"product_id\",\n",
    "    \"date_id\", \"payment_id\", \"mall_id\",\n",
    "    \"quantity\", \"price\"\n",
    "]]\n",
    "\n",
    "fact_sales.to_csv(FACT_SALES, index=False)\n"
   ]
  }
 ],
 "metadata": {
  "kernelspec": {
   "display_name": ".venv (3.12.3)",
   "language": "python",
   "name": "python3"
  },
  "language_info": {
   "codemirror_mode": {
    "name": "ipython",
    "version": 3
   },
   "file_extension": ".py",
   "mimetype": "text/x-python",
   "name": "python",
   "nbconvert_exporter": "python",
   "pygments_lexer": "ipython3",
   "version": "3.12.3"
  }
 },
 "nbformat": 4,
 "nbformat_minor": 5
}
