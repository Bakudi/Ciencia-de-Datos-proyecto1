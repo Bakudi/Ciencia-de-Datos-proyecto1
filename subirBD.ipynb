{
 "cells": [
  {
   "cell_type": "code",
   "execution_count": 28,
   "id": "02a4bc3b",
   "metadata": {},
   "outputs": [],
   "source": [
    "import os\n",
    "from pathlib import Path\n",
    "from dotenv import load_dotenv\n",
    "import pandas as pd\n",
    "from sqlalchemy import create_engine, Column, Integer, String, Float, Date, MetaData, Table\n",
    "from sqlalchemy.ext.declarative import declarative_base"
   ]
  },
  {
   "cell_type": "code",
   "execution_count": 29,
   "id": "3c267d6e",
   "metadata": {},
   "outputs": [
    {
     "name": "stderr",
     "output_type": "stream",
     "text": [
      "/tmp/ipykernel_22493/3720165678.py:22: MovedIn20Warning: The ``declarative_base()`` function is now available as sqlalchemy.orm.declarative_base(). (deprecated since: 2.0) (Background on SQLAlchemy 2.0 at: https://sqlalche.me/e/b8d9)\n",
      "  Base = declarative_base()\n"
     ]
    }
   ],
   "source": [
    "BASE_DIR = Path().resolve()\n",
    "load_dotenv(BASE_DIR / \".env\")\n",
    "\n",
    "# Archivos limpios\n",
    "DIM_CUSTOMERS = BASE_DIR / \"dim_customers.csv\"\n",
    "DIM_PRODUCTS = BASE_DIR / \"dim_products.csv\"\n",
    "DIM_DATE = BASE_DIR / \"dim_dates.csv\"\n",
    "DIM_PAYMENT = BASE_DIR / \"dim_payments.csv\"\n",
    "DIM_MALL = BASE_DIR / \"dim_malls.csv\"\n",
    "FACT_SALES = BASE_DIR / \"fact_sales.csv\"\n",
    "\n",
    "# Conexión PostgreSQL\n",
    "DB_USER = os.getenv(\"DB_USER\", \"postgres\")\n",
    "DB_PASS = os.getenv(\"DB_PASS\", \"1111\")\n",
    "DB_HOST = os.getenv(\"DB_HOST\", \"localhost\")\n",
    "DB_PORT = os.getenv(\"DB_PORT\", \"5433\")\n",
    "DB_NAME = os.getenv(\"DB_NAME\", \"cienciadedatos\")\n",
    "\n",
    "DATABASE_URL = f\"postgresql+psycopg2://{DB_USER}:{DB_PASS}@{DB_HOST}:{DB_PORT}/{DB_NAME}\"\n",
    "\n",
    "engine = create_engine(DATABASE_URL)\n",
    "Base = declarative_base()"
   ]
  },
  {
   "cell_type": "code",
   "execution_count": 30,
   "id": "00345afd",
   "metadata": {},
   "outputs": [],
   "source": [
    "class DimCustomer(Base):\n",
    "    __tablename__ = \"dimcustomer\"\n",
    "    customer_id = Column(String, primary_key=True)\n",
    "    gender = Column(String)\n",
    "    age = Column(Integer)\n",
    "\n",
    "class DimProduct(Base):\n",
    "    __tablename__ = \"dimproduct\"\n",
    "    product_id = Column(Integer, primary_key=True)\n",
    "    category = Column(String)\n",
    "\n",
    "class DimDate(Base):\n",
    "    __tablename__ = \"dimdate\"\n",
    "    date_id = Column(Integer, primary_key=True)\n",
    "    invoice_date = Column(Date)\n",
    "    year = Column(Integer)\n",
    "    month = Column(Integer)\n",
    "    day = Column(Integer)\n",
    "\n",
    "class DimPayment(Base):\n",
    "    __tablename__ = \"dimpayment\"\n",
    "    payment_id = Column(Integer, primary_key=True)\n",
    "    payment_method = Column(String)\n",
    "\n",
    "class DimMall(Base):\n",
    "    __tablename__ = \"dimmall\"\n",
    "    mall_id = Column(Integer, primary_key=True)\n",
    "    shopping_mall = Column(String)\n",
    "\n",
    "class FactSales(Base):\n",
    "    __tablename__ = \"factsales\"\n",
    "    invoice_no = Column(String, primary_key=True)\n",
    "    customer_id = Column(String)\n",
    "    product_id = Column(Integer)\n",
    "    date_id = Column(Integer)\n",
    "    payment_id = Column(Integer)\n",
    "    mall_id = Column(Integer)\n",
    "    quantity = Column(Integer)\n",
    "    price = Column(Float)"
   ]
  },
  {
   "cell_type": "code",
   "execution_count": 31,
   "id": "1531dc3d",
   "metadata": {},
   "outputs": [],
   "source": [
    "def validate_foreign_keys():\n",
    "    dim_customers = pd.read_csv(DIM_CUSTOMERS)\n",
    "    dim_products = pd.read_csv(DIM_PRODUCTS)\n",
    "    dim_date = pd.read_csv(DIM_DATE)\n",
    "    dim_payment = pd.read_csv(DIM_PAYMENT)\n",
    "    dim_mall = pd.read_csv(DIM_MALL)\n",
    "    fact_sales = pd.read_csv(FACT_SALES)\n",
    "\n",
    "    print(\"Clientes faltantes:\", len(set(fact_sales[\"customer_id\"]) - set(dim_customers[\"customer_id\"])))\n",
    "    print(\"Productos faltantes:\", len(set(fact_sales[\"product_id\"]) - set(dim_products[\"product_id\"])))\n",
    "    print(\"Fechas faltantes:\", len(set(fact_sales[\"date_id\"]) - set(dim_date[\"date_id\"])))\n",
    "    print(\"Métodos de pago faltantes:\", len(set(fact_sales[\"payment_id\"]) - set(dim_payment[\"payment_id\"])))\n",
    "    print(\"Malls faltantes:\", len(set(fact_sales[\"mall_id\"]) - set(dim_mall[\"mall_id\"])))"
   ]
  },
  {
   "cell_type": "code",
   "execution_count": 33,
   "id": "9262393d",
   "metadata": {},
   "outputs": [
    {
     "name": "stdout",
     "output_type": "stream",
     "text": [
      "Clientes faltantes: 0\n",
      "Productos faltantes: 0\n",
      "Fechas faltantes: 0\n",
      "Métodos de pago faltantes: 0\n",
      "Malls faltantes: 0\n",
      "99457 filas insertadas en dimcustomer\n",
      "8 filas insertadas en dimproduct\n",
      "797 filas insertadas en dimdate\n",
      "3 filas insertadas en dimpayment\n",
      "10 filas insertadas en dimmall\n",
      "37110 filas insertadas en factsales\n"
     ]
    }
   ],
   "source": [
    "from sqlalchemy import text\n",
    "\n",
    "def load_table(df_path, table_name, unique_col=None):\n",
    "    df = pd.read_csv(df_path)\n",
    "\n",
    "    if unique_col:\n",
    "        df = df.drop_duplicates(subset=[unique_col])\n",
    "\n",
    "    with engine.begin() as conn:\n",
    "        conn.execute(text(f\"TRUNCATE TABLE {table_name} CASCADE;\"))  # limpia sin borrar esquema\n",
    "\n",
    "    df.to_sql(\n",
    "        table_name,\n",
    "        engine,\n",
    "        if_exists=\"append\",  # 👈 ahora sí, porque la tabla ya existe\n",
    "        index=False,\n",
    "        method=\"multi\",\n",
    "        chunksize=1000\n",
    "    )\n",
    "    print(f\"{len(df)} filas insertadas en {table_name}\")\n",
    "\n",
    "\n",
    "if __name__ == \"__main__\":\n",
    "    validate_foreign_keys()\n",
    "    run()"
   ]
  }
 ],
 "metadata": {
  "kernelspec": {
   "display_name": ".venv (3.12.3)",
   "language": "python",
   "name": "python3"
  },
  "language_info": {
   "codemirror_mode": {
    "name": "ipython",
    "version": 3
   },
   "file_extension": ".py",
   "mimetype": "text/x-python",
   "name": "python",
   "nbconvert_exporter": "python",
   "pygments_lexer": "ipython3",
   "version": "3.12.3"
  }
 },
 "nbformat": 4,
 "nbformat_minor": 5
}
